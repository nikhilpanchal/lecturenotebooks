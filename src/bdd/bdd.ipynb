{
 "cells": [
  {
   "cell_type": "markdown",
   "metadata": {
    "collapsed": true,
    "deletable": true,
    "editable": true
   },
   "source": [
    "# Behavior Driven Development (BDD)"
   ]
  },
  {
   "cell_type": "markdown",
   "metadata": {
    "deletable": true,
    "editable": true
   },
   "source": [
    "Behavior Driven Development, relates to writing code as per specifications set by tests. The process involvles capturing user requirements, or system behaviour in small incremental tests, and then writing code to get those tests to pass. This typically results in building systems incrementally with small blocks of code and then building additional behavior that sits on top of previously built code, taking one test at a time and getting it to pass.\n",
    "\n",
    "The process follows three main steps that are then repeated over and over again.\n",
    "\n",
    " - Red\n",
    "  - Write a test before the code. The missing code causes the test to go `Red`.\n",
    " _ Green\n",
    "  - Write the code to get the test to pass using the `Quickest path to Green` method.\n",
    " - Refactor\n",
    "  - Refactor the code to better structure it whilst keeping the tests green. The Green tests ensure you are starting this test with working code.\n",
    "\n",
    "Repeat with the next required behaviour.\n",
    "\n",
    "## Advantages\n",
    " - Incremental build of the system allows its architecture to `evolve` as per the systems need.\n",
    "  - As opposed to deciding an architecture up front which would most likely not capture all cases.\n",
    "  - Results in a system that is more amenable to change.\n",
    " - Results in (close to) 100% test coverage, ensuring well tested code that inspires developer and user confidence\n",
    " - The tests ensure new features can be added or existing code can be modified without breaking functionality\n",
    " - Bugs or logic breaks are caught and fixed early in development process\n",
    "  - Any code change that breaks existing logic will create red tests, leading to early bug detection and fixes\n",
    " - Results in the testing cycle being almost entirely automated with tests run dozens of times a day or on every build\n",
    "  - *Important to keep tests small and their executions quick*\n",
    "  \n",
    "## Concerns\n",
    " - Can *appear* to take longer time due to `double` work\n",
    " - Counter-intuitive: Not natural to first timers to write a test before writing the real code\n",
    " - Can result in `brittle` tests: Any small change in the code result in the refactoring of the tests as well.\n",
    "  - Usually occurs if the tests are written after the code\n",
    "  - *This is why tests should check for `behaviour` not code*.\n",
    " - Different languages provide differing levels of support\n",
    " \n",
    "In the real world BDD is implemented in various differing flavors. Teams often write the tests after writing code to have tests serve as safeguards against logic-breaking code modifications."
   ]
  }
 ],
 "metadata": {
  "kernelspec": {
   "display_name": "Python 3",
   "language": "python",
   "name": "python3"
  },
  "language_info": {
   "codemirror_mode": {
    "name": "ipython",
    "version": 3.0
   },
   "file_extension": ".py",
   "mimetype": "text/x-python",
   "name": "python",
   "nbconvert_exporter": "python",
   "pygments_lexer": "ipython3",
   "version": "3.5.1"
  }
 },
 "nbformat": 4,
 "nbformat_minor": 0
}