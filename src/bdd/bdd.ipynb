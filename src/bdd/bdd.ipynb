{
 "cells": [
  {
   "cell_type": "markdown",
   "metadata": {
    "collapsed": true,
    "deletable": true,
    "editable": true
   },
   "source": [
    "## Test Driven Development (TDD)"
   ]
  },
  {
   "cell_type": "markdown",
   "metadata": {
    "deletable": true,
    "editable": true
   },
   "source": [
    "Test Driven Development, relates to writing code as per specifications set by tests. The process involvles capturing user requirements, or system behaviour in small incremental tests, and then writing code to get those tests to pass. This typically results in building systems incrementally with small blocks of code and then building additional behavior that sits on top of previously built code, taking one test at a time and getting it to pass.\n",
    "\n",
    "The process follows three main steps that are then repeated over and over again.\n",
    "\n",
    " - Red\n",
    "  - Write a test before the code (causing it to fail). The missing code causes the test to go `Red`.\n",
    " - Green\n",
    "  - Write the code to get the test to pass using the `Quickest path to Green` method.\n",
    " - Refactor\n",
    "  - Refactor the code to better structure it whilst keeping the tests green. The Green tests ensure you are starting this test with working code.\n",
    "\n",
    "Repeat with the next required behaviour.\n",
    "\n",
    "### Advantages\n",
    " - Incremental build of the system allows its architecture to `evolve` as per the systems need.\n",
    "  - As opposed to deciding an architecture up front which would most likely not capture all cases.\n",
    "  - Results in a system that is more amenable to change.\n",
    " - Results in (close to) 100% test coverage, ensuring well tested code that inspires developer and user confidence\n",
    " - The tests ensure new features can be added or existing code can be modified without breaking functionality\n",
    " - Bugs or logic breaks are caught and fixed early in development process\n",
    "  - Any code change that breaks existing logic will create red tests, leading to early bug detection and fixes\n",
    " - Results in the testing cycle being almost entirely automated with tests run dozens of times a day or on every build\n",
    "  - *Important to keep tests small and their executions quick*\n",
    "  \n",
    "### Concerns\n",
    " - Can *appear* to take longer time due to `double` work\n",
    " - Counter-intuitive: Not natural to first timers to write a test before writing the real code\n",
    " - Can result in `brittle` tests: Any small change in the code result in the refactoring of the tests as well.\n",
    "  - Usually occurs if the tests are written after the code\n",
    "  - *This is why tests should check for `behaviour` not code*.\n",
    " - Different languages provide differing levels of support\n",
    " \n",
    "In the real world BDD is implemented in various differing flavors. Teams often write the tests after writing code to have tests serve as safeguards against logic-breaking code modifications."
   ]
  },
  {
   "cell_type": "markdown",
   "metadata": {
    "deletable": true,
    "editable": true
   },
   "source": [
    "## Tests\n",
    "\n",
    "Tests are separate bits of code in addition to the main application code that are written to confirm and verify the desired behavior of various scopes of application. These are the responsibility of the `developer` and are typically written as the main application is being written. Each of these tests are **self contained**, in that each test is responsible for setting up the system before running the actual test and tearing it down after the test is run. \n",
    "\n",
    "Application tests can be grouped into three main categories, that differ in terms of the scope of the application code that they are written to verify (cover). These are\n",
    "\n",
    " 1. Unit Tests\n",
    " 1. Integration Tests\n",
    " 1. End-to-End (Feature) Tests\n",
    " \n",
    "### Unit Tests\n",
    "\n",
    " - A Unit test has the smallest scope or code coverate of testing where each unit tests checks a small `unit` of code in isolation. \n",
    " - If the unit has any interaction with another dependent unit or module that dependency is `mocked` out.\n",
    " - Is the most fine-grained of all tests, requiring a lot of unit tests to cover the entire codebase.\n",
    " - Each test must execute as quickly as possible in order to lend itself to automation.\n",
    " \n",
    "### Integration Tests\n",
    " \n",
    " - Tests that two or more units or modules work together (integrate) as expected.\n",
    "  - eg. Test that checks for the interaction between server code and a database.\n",
    " - Can take longer to run than unit-tests due to remote calls and other integrations that need to run as part of the test\n",
    " - Requires more setup than unit tests (like setting up a fake server or test database to integrate with)\n",
    " \n",
    "### End-to-End Tests\n",
    "\n",
    " - Also called `Feature Tests`, they test out a high level feature of the application\n",
    "  - Tests the application at the highest level of abstraction, mostly oblivious to the way the app is implemented\n",
    " - These involve testing an application at the browser level, simulating real user interaction with the system\n",
    " - Take the longest to run, most expensive to write and most prone to failure\n",
    "  - Involves communication between the client (browser) and server layers which will take the same time as a real feature execution\n",
    "  - Run using tools like Selenium that has its own learning curve\n",
    "  - Most prone to failure when changes are made to the system, increasing maintenance cost\n",
    "  - Less deterministic than unit or integration tests\n",
    " \n",
    " \n",
    "### Testing Pyramid\n",
    "The rule of thumb for a typical application is to have the largest number of fine-grained unit tests, a smaller number of integration tests and then an even smaller set of end to end tests.\n",
    "\n",
    "![Testing Pyramid](https://2.bp.blogspot.com/-YTzv_O4TnkA/VTgexlumP1I/AAAAAAAAAJ8/57-rnwyvP6g/s1600/image02.png \"Testing Pyramid\")"
   ]
  },
  {
   "cell_type": "markdown",
   "metadata": {
    "deletable": true,
    "editable": true
   },
   "source": [
    "## Tests in Python\n",
    "\n",
    "Testing support in python is mainly provided by the `unittest` module. This provides support for test automation, sharing of test setup and teardown across individual test cases, Grouping of related tests as `Suites` of tests and finally, a report generation framework to print out the results of the test run.\n",
    "\n",
    "`unittest` as the name suggests, is mainly used to write **unit tests**, however they can be used to write **integration tests** as well.\n",
    "\n",
    "### Basic Components\n",
    "\n",
    "In order to write tests for the `unittest` module to run, you would need to provide the following main components in order to be compliant with unittest's automation test runner.\n",
    "\n",
    "#### TestCase\n",
    "A class that encompasses a set of related tests. This class would need to be a `subclass` of the module provided `unittest.TestCase` class.\n",
    "\n",
    "```python\n",
    "import unittest\n",
    "class MyTests(unittest.TestCase):\n",
    "\n",
    "```\n",
    "\n",
    "#### Individual Tests\n",
    "Each individual test is written as an instance function in the TestCase class. In order for these methods to be triggered by the test runner, their names must be of the form **test_***\n",
    "\n",
    "```python\n",
    "class MyTests(unittest.TestCase):\n",
    "    def test_myunit_test(self):\n",
    "        \n",
    "```\n",
    "\n",
    "#### Assertion statements\n",
    "The assertion statements are found within each test and form the crux of all of the tests that are written. The `unittest.TestCase` class provides a large set of instance `assert*` functions that you can call to make various types of assertions.\n",
    "\n",
    "```python\n",
    "class MyTestCase(unittest.TestCase):\n",
    "    def test_myunit_test(self):\n",
    "        self.assertEqual(1, 1, \"Expected the output to be 1\")\n",
    "```\n",
    "\n",
    "#### setUp and tearDown\n",
    "Helper methods of the `unittest.TestCase` class that can be overridden to provide setUp and teardown for each test. The setup method is run before the execution of each test and the teardown is run immediately after each test is run. \n",
    "\n",
    "These methods are what makes the `TestCase` class self-contained. Each run of the `TestCase` class must manage its own setup required for the tests to run, and once completed must also be responsible for any clean-up operations required to leave the system in a good state.\n",
    "\n",
    "```python\n",
    "class MyTestCase(unittest.TestCase):\n",
    "    def setUp(self):\n",
    "        self.dep_system = DepSystem()\n",
    "        self.shared_data = list([0, 1, 2, 3])\n",
    "```\n",
    "\n",
    "#### TestSuite\n",
    "`unittest.TestSuite` is a class provided to create groups or `suites` of TestCases. \n",
    "\n",
    "```python\n",
    "def suite():\n",
    "    suite = unittest.TestSuite()\n",
    "    suite.addTest(MyTestCase('test_myunit_test'))\n",
    "    suite.addTest(MyOtherTestCase('test_myother_test'))\n",
    "    return suite\n",
    "```"
   ]
  },
  {
   "cell_type": "code",
   "execution_count": 1,
   "metadata": {
    "collapsed": true,
    "deletable": true,
    "editable": true
   },
   "outputs": [],
   "source": [
    ""
   ]
  },
  {
   "cell_type": "markdown",
   "metadata": {
    "deletable": true,
    "editable": true
   },
   "source": [
    "An automated test run must be a simple and painless execution, that encapsulates all test assertions, setup and teardown within it. It should not produce any output about the individual test details, instead, it should just print out whether the tests all passed and if not which ones failed and why. For failures, it may provide stacktraces to provide points of further investigation. "
   ]
  }
 ],
 "metadata": {
  "kernelspec": {
   "display_name": "Python 3",
   "language": "python",
   "name": "python3"
  },
  "language_info": {
   "codemirror_mode": {
    "name": "ipython",
    "version": 3.0
   },
   "file_extension": ".py",
   "mimetype": "text/x-python",
   "name": "python",
   "nbconvert_exporter": "python",
   "pygments_lexer": "ipython3",
   "version": "3.5.1"
  }
 },
 "nbformat": 4,
 "nbformat_minor": 0
}